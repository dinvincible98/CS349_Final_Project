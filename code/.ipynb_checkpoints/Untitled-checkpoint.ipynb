{
 "cells": [
  {
   "cell_type": "code",
   "execution_count": 53,
   "metadata": {},
   "outputs": [],
   "source": [
    "import numpy as np\n",
    "import pandas as pd"
   ]
  },
  {
   "cell_type": "code",
   "execution_count": 54,
   "metadata": {},
   "outputs": [],
   "source": [
    "# 1st Step: Import Data\n",
    "# train = pd.read_csv('../data/train.csv')\n",
    "# train"
   ]
  },
  {
   "cell_type": "code",
   "execution_count": 55,
   "metadata": {},
   "outputs": [],
   "source": [
    "# Data directory\n",
    "Dir = '../UCI_HAR_Dataset'\n",
    "signals = ['body_acc_x','body_acc_y','body_acc_z', \n",
    "           'body_gyro_x','body_gyro_y','body_gyro_z',  \n",
    "           'total_acc_x','total_acc_y','total_acc_z']\n"
   ]
  },
  {
   "cell_type": "code",
   "execution_count": 75,
   "metadata": {},
   "outputs": [],
   "source": [
    "# Helper functions\n",
    "# Read data\n",
    "def read_csv(filename):\n",
    "    return pd.read_csv(filename,delim_whitespace=True,header=None)\n",
    "\n",
    "# Load data\n",
    "def load_signals(data):\n",
    "    signals_data = []\n",
    "    for signal in signals:\n",
    "        filename = f'{Dir}/{data}/Inertial _Signals/{signal}_{data}.txt'\n",
    "        signals_data.append(read_csv(filename).to_numpy())\n",
    "    \n",
    "    return np.transpose(signals_data,(1,2,0))\n",
    "\n",
    "# load class labels\n",
    "def load_y(data):\n",
    "    filename = f'{Dir}/{data}/y_{data}.txt'\n",
    "    y = read_csv(filename)[0]\n",
    "    return y.to_numpy()\n",
    "\n",
    "\n",
    "def load_data():\n",
    "    X_train, X_test = load_signals('train'), load_signals('test')\n",
    "    y_train, y_test = load_y('train'), load_y('test')\n",
    "    \n",
    "    return X_train, X_test, y_train, y_test\n",
    "        \n",
    "    "
   ]
  },
  {
   "cell_type": "code",
   "execution_count": 76,
   "metadata": {},
   "outputs": [],
   "source": [
    "# 2nd Step: Generate Training & Testing Data"
   ]
  },
  {
   "cell_type": "code",
   "execution_count": 77,
   "metadata": {},
   "outputs": [],
   "source": [
    "X_train, X_test, y_train, y_test = load_data()\n"
   ]
  },
  {
   "cell_type": "code",
   "execution_count": 81,
   "metadata": {},
   "outputs": [
    {
     "name": "stdout",
     "output_type": "stream",
     "text": [
      "(7352, 128, 9)\n",
      "(7352,)\n",
      "(2947,)\n"
     ]
    }
   ],
   "source": [
    "# X_train = np.array(X_train)\n",
    "# y_train = np.array(y_train)\n",
    "print(X_train.shape)                  #7352 train, 128 timesteps, 9 signals\n",
    "print(y_train.shape)\n",
    "print(y_test.shape)"
   ]
  },
  {
   "cell_type": "code",
   "execution_count": null,
   "metadata": {},
   "outputs": [],
   "source": []
  }
 ],
 "metadata": {
  "kernelspec": {
   "display_name": "Python 3",
   "language": "python",
   "name": "python3"
  },
  "language_info": {
   "codemirror_mode": {
    "name": "ipython",
    "version": 3
   },
   "file_extension": ".py",
   "mimetype": "text/x-python",
   "name": "python",
   "nbconvert_exporter": "python",
   "pygments_lexer": "ipython3",
   "version": "3.8.5"
  }
 },
 "nbformat": 4,
 "nbformat_minor": 4
}
